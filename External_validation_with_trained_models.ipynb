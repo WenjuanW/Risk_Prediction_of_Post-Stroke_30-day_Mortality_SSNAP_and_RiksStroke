{
 "cells": [
  {
   "cell_type": "code",
   "execution_count": 1,
   "metadata": {},
   "outputs": [],
   "source": [
    "## import modules\n",
    "import pickle"
   ]
  },
  {
   "cell_type": "markdown",
   "metadata": {},
   "source": [
    "### Load the trained models"
   ]
  },
  {
   "cell_type": "code",
   "execution_count": 3,
   "metadata": {},
   "outputs": [],
   "source": [
    "filename = 'XGBoost_trained_riksstroke_SSNAP.pkl'\n",
    "clf_xgb = pickle.load(open(filename, 'rb'))"
   ]
  },
  {
   "cell_type": "code",
   "execution_count": 4,
   "metadata": {},
   "outputs": [],
   "source": [
    "filename = 'LR_trained_model_SSNAP.pkl'\n",
    "clf_LR = pickle.load(open(filename, 'rb'))"
   ]
  },
  {
   "cell_type": "code",
   "execution_count": 5,
   "metadata": {},
   "outputs": [],
   "source": [
    "filename = 'LR_elastic_net_inter_trained_model_SSNAP.pkl'\n",
    "clf_LR_elastic_net_interaction_terms = pickle.load(open(filename, 'rb'))"
   ]
  },
  {
   "cell_type": "markdown",
   "metadata": {},
   "source": [
    "### Use the trained models to predict the risks of the outcome on your own data (pre-processed according to the GitHub README.md file)"
   ]
  },
  {
   "cell_type": "code",
   "execution_count": null,
   "metadata": {},
   "outputs": [],
   "source": [
    "## assume your dataset is named as X_test which contains all variables and y_test which contains the outcome\n",
    "prob_pred_LR = clf_LR.predict_proba(X_test)\n",
    "prob_pred_LR_elastic_net_interaction_terms = clf_LR_elastic_net_interaction_terms.predict_proba(X_test)\n",
    "prob_pred_xgb = clf_xgb.predict_proba(df_test_scaled)\n"
   ]
  },
  {
   "cell_type": "markdown",
   "metadata": {},
   "source": [
    "### The above gives the risk predictions on your data and you can use the risk predictions and y_test to calculate the performances such as AUC, Brier Score, Precision-Recall curves, Calibration plots, and Decision Curve Analysis."
   ]
  },
  {
   "cell_type": "code",
   "execution_count": null,
   "metadata": {},
   "outputs": [],
   "source": []
  }
 ],
 "metadata": {
  "kernelspec": {
   "display_name": "Python 3",
   "language": "python",
   "name": "python3"
  },
  "language_info": {
   "codemirror_mode": {
    "name": "ipython",
    "version": 3
   },
   "file_extension": ".py",
   "mimetype": "text/x-python",
   "name": "python",
   "nbconvert_exporter": "python",
   "pygments_lexer": "ipython3",
   "version": "3.7.4"
  }
 },
 "nbformat": 4,
 "nbformat_minor": 2
}
